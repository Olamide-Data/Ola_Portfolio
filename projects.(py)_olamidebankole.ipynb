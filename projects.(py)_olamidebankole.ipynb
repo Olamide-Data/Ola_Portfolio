{
 "cells": [
  {
   "cell_type": "markdown",
   "id": "2cb5e637-a490-4dcd-8548-d9c2af0ef9ad",
   "metadata": {},
   "source": [
    "# SIMPLE TASKS"
   ]
  },
  {
   "cell_type": "code",
   "execution_count": 1,
   "id": "7c1fc268-83b4-4340-9ef7-14fd45f46f59",
   "metadata": {},
   "outputs": [
    {
     "name": "stdin",
     "output_type": "stream",
     "text": [
      "pick a number from 1-100:  4\n"
     ]
    },
    {
     "name": "stdout",
     "output_type": "stream",
     "text": [
      "is your number 4?\n"
     ]
    },
    {
     "name": "stdin",
     "output_type": "stream",
     "text": [
      "no! try again:  29\n"
     ]
    },
    {
     "name": "stdout",
     "output_type": "stream",
     "text": [
      "is your number 29?\n"
     ]
    },
    {
     "name": "stdin",
     "output_type": "stream",
     "text": [
      "no! try again:  49\n"
     ]
    },
    {
     "name": "stdout",
     "output_type": "stream",
     "text": [
      "congratulations you won!\n"
     ]
    }
   ],
   "source": [
    "secret_num = 49\n",
    "guess = int(input('pick a number from 1-100: '))\n",
    "\n",
    "while guess != secret_num:\n",
    "    print(f'is your number {guess}?')\n",
    "    response = input('no! try again: ')\n",
    "    guess = int(response)\n",
    "\n",
    "print('congratulations you won!')"
   ]
  },
  {
   "cell_type": "code",
   "execution_count": null,
   "id": "da7861da-c13c-4b6d-9828-26d99bd4c078",
   "metadata": {},
   "outputs": [],
   "source": [
    "import random\n",
    "\n",
    "user_choice = input('pick an option(rock, paper, scissors): ')\n",
    "computer_choice = random.choice(['rock', 'paper', 'scissors'])\n",
    "\n",
    "if user_choice == computer_choice:\n",
    "    print(f'you chose {user_choice} and computer chose {computer_choice}')\n",
    "    print('its a tie!')\n",
    "elif user_choice == 'paper' and computer_choice == 'rock'  or \\\n",
    "    user_choice == 'scissors' and computer_choice == 'paper' or \\\n",
    "    user_choice == 'rock' and computer_choice == 'scissors':\n",
    "    print('you win!')\n",
    "else:\n",
    "    print(f'computer chose {computer_choice}, you lose!')"
   ]
  },
  {
   "cell_type": "code",
   "execution_count": null,
   "id": "e98bac1e-abd8-41fe-9927-c805ff0619c8",
   "metadata": {},
   "outputs": [],
   "source": [
    "name = input('what is your name?: ')\n",
    "age = int(input('how old are you?: '))\n",
    "\n",
    "def greet_user (name):\n",
    "    print(f'\\nhello {name}!')\n",
    "    if age >= 18:\n",
    "        adult_status = 'you are an adult'\n",
    "    else:\n",
    "        adult_status = \"you are not an adult\"\n",
    "    return adult_status\n",
    "\n",
    "\n",
    "print(greet_user(name))"
   ]
  },
  {
   "cell_type": "code",
   "execution_count": 3,
   "id": "d37d0d61-0643-49d6-a979-c6ff4f94af0c",
   "metadata": {},
   "outputs": [
    {
     "name": "stdin",
     "output_type": "stream",
     "text": [
      "an even number 2\n"
     ]
    },
    {
     "name": "stdout",
     "output_type": "stream",
     "text": [
      "correct\n"
     ]
    }
   ],
   "source": [
    "while True:\n",
    "    try:\n",
    "        num =int(input('an even number'))\n",
    "        if num %2 == 0:\n",
    "            print('correct')\n",
    "        else:\n",
    "            print('enter an even number')\n",
    "\n"
   ]
  },
  {
   "cell_type": "markdown",
   "id": "7f36dbf5-599e-438c-998e-f1ce26cebaeb",
   "metadata": {},
   "source": [
    "# STUDENT GRADE SYSTEM"
   ]
  },
  {
   "cell_type": "code",
   "execution_count": 1,
   "id": "9b02db8d-57e9-4af6-b085-6b563faadc73",
   "metadata": {},
   "outputs": [
    {
     "name": "stdin",
     "output_type": "stream",
     "text": [
      "student name:  olamide\n",
      "math score:  65\n",
      "sci score:  80\n",
      "eng score:  70\n"
     ]
    },
    {
     "name": "stdout",
     "output_type": "stream",
     "text": [
      "Average score: 71.7\n",
      "grade: A\n",
      "student olamide added successfully!\n",
      "{'olamide': {'math': 65.0, 'eng': 70.0, 'sci': 80.0, 'Average': 71.7, 'Grade': 'A'}}\n"
     ]
    },
    {
     "name": "stdin",
     "output_type": "stream",
     "text": [
      "do you wish to input another data, yes/no?:  yes\n",
      "student name:  john\n",
      "math score:  82\n",
      "sci score:  50.7\n",
      "eng score:  65.8\n"
     ]
    },
    {
     "name": "stdout",
     "output_type": "stream",
     "text": [
      "Average score: 66.2\n",
      "grade: B\n",
      "student john added successfully!\n",
      "{'olamide': {'math': 65.0, 'eng': 70.0, 'sci': 80.0, 'Average': 71.7, 'Grade': 'A'}, 'john': {'math': 82.0, 'eng': 65.8, 'sci': 50.7, 'Average': 66.2, 'Grade': 'B'}}\n"
     ]
    },
    {
     "name": "stdin",
     "output_type": "stream",
     "text": [
      "do you wish to input another data, yes/no?:  no\n"
     ]
    },
    {
     "data": {
      "text/plain": [
       "{'olamide': {'math': 65.0,\n",
       "  'eng': 70.0,\n",
       "  'sci': 80.0,\n",
       "  'Average': 71.7,\n",
       "  'Grade': 'A'},\n",
       " 'john': {'math': 82.0,\n",
       "  'eng': 65.8,\n",
       "  'sci': 50.7,\n",
       "  'Average': 66.2,\n",
       "  'Grade': 'B'}}"
      ]
     },
     "execution_count": 1,
     "metadata": {},
     "output_type": "execute_result"
    }
   ],
   "source": [
    "\n",
    "student = {}\n",
    "\n",
    "def student_info (): #add student name and score\n",
    "    while True:\n",
    "        name = input('student name: ')\n",
    "        math_score=  float(input('math score: '))\n",
    "        sci_score =  float(input('sci score: '))\n",
    "        eng_score =  float(input('eng score: '))\n",
    "        average_score = (math_score + sci_score + eng_score)/3 #calculate average score\n",
    "        print(f'Average score: {average_score:.1f}')\n",
    "#assign a grade based on average score\n",
    "        if average_score >= 70:\n",
    "            grade = 'A'\n",
    "        elif average_score >= 60:\n",
    "            grade = 'B'\n",
    "        elif average_score >= 50:\n",
    "            grade = 'C'\n",
    "        elif average_score >= 40:\n",
    "            grade = 'D'\n",
    "        else:\n",
    "            grade = 'F'\n",
    "        print(f'grade: {grade}')\n",
    "\n",
    "    #to add student data to dictionary\n",
    "        student[name] = {'math': math_score,'eng': eng_score,'sci': sci_score,'Average': round(average_score, 1), 'Grade': grade}\n",
    "        print(f'student {name} added successfully!')\n",
    "        print(student) \n",
    "        cont = input('do you wish to input another data, yes/no?: ') #option to continue\n",
    "        if cont.lower() != 'yes':\n",
    "            return student\n",
    "            break\n",
    "            \n",
    "student_info()"
   ]
  },
  {
   "cell_type": "code",
   "execution_count": 2,
   "id": "9da24ef5-f04b-4df2-afb2-5724caf16090",
   "metadata": {},
   "outputs": [
    {
     "name": "stdout",
     "output_type": "stream",
     "text": [
      "{'ola': {'math': 45, 'eng': 50}}\n"
     ]
    }
   ],
   "source": [
    "students = {}\n",
    "name = 'ola'\n",
    "math_score = 45\n",
    "eng_score =50\n",
    "\n",
    "students[name] = {'math': math_score, 'eng': eng_score}\n",
    "print(students)"
   ]
  },
  {
   "cell_type": "raw",
   "id": "53f0b75e-345b-4f79-b26d-fa3e473217da",
   "metadata": {},
   "source": [
    "explanations"
   ]
  },
  {
   "cell_type": "markdown",
   "id": "083f48e1-d4bc-4779-9736-9d0c124146bc",
   "metadata": {},
   "source": [
    "# TO-DO APP PROGRAM"
   ]
  },
  {
   "cell_type": "code",
   "execution_count": null,
   "id": "46bfdfc8-9f03-41ca-b0ac-9bd2bd0ff0bc",
   "metadata": {},
   "outputs": [],
   "source": [
    "tasks = []\n",
    " #options in the app\n",
    "while True:\n",
    "    print('1. add tasks')\n",
    "    print('2. view tasks')\n",
    "    print('3. remove tasks')\n",
    "    print('4. quit')\n",
    "\n",
    "#to pick an option\n",
    "    choice = input('pick an option: ')\n",
    "    if choice == '1':\n",
    "        task_add = input('add tasks: ')\n",
    "        tasks.extend([task.strip() for task in task_add.split(',')])\n",
    "        print(f'task added: {tasks}' )\n",
    "#to check tasks\n",
    "    elif choice == '2':\n",
    "        print('tasks: ')\n",
    "        for n, task in enumerate(tasks, start = 1):\n",
    "            print(f'{n}. {task}')\n",
    "#to remove task\n",
    "    elif choice == '3':\n",
    "        task_del = input('enter task to delete: ')\n",
    "        if task_del in tasks:\n",
    "            tasks.remove(task_del)\n",
    "            print('\\nTask deleted')\n",
    "        else:\n",
    "            print('\\ntask not found')\n",
    "#option to quit\n",
    "    elif choice == '4':\n",
    "        print('quit? Yes or No')\n",
    "        option = input().lower()\n",
    "        if option == 'yes':\n",
    "            print('goodbye!')\n",
    "            break\n",
    "        elif option == 'No':\n",
    "            print('returning to menu...')\n",
    "            continue\n",
    "    else:\n",
    "        print('invalid choice, please choice a valid choice')"
   ]
  },
  {
   "cell_type": "raw",
   "id": "7407cfc1-da7b-4913-a32b-2d216e8cee2e",
   "metadata": {},
   "source": [
    "explanations"
   ]
  },
  {
   "cell_type": "markdown",
   "id": "61175270-0ab7-40da-9233-ece6068af71b",
   "metadata": {},
   "source": [
    "# FOOD APP "
   ]
  },
  {
   "cell_type": "code",
   "execution_count": 16,
   "id": "27d36bf5-4734-47ea-8361-ac71d605798d",
   "metadata": {},
   "outputs": [
    {
     "name": "stdout",
     "output_type": "stream",
     "text": [
      "Welcome To Our Resturant!\n",
      "pizza: 6500 Naira\n",
      "burger: 3000 Naira\n",
      "noodles: 1300 Naira\n"
     ]
    },
    {
     "name": "stdin",
     "output_type": "stream",
     "text": [
      "enter your food order or \"done\" to finish:  burger\n",
      "enter the quantity:  2\n",
      "enter your food order or \"done\" to finish:  noodles\n",
      "enter the quantity:  2\n",
      "enter your food order or \"done\" to finish:  done\n"
     ]
    },
    {
     "name": "stdout",
     "output_type": "stream",
     "text": [
      "\n",
      "your order:\n",
      "burger x 2: 6000\n",
      "noodles x 2: 2600\n",
      "\n",
      "Receipt: \n",
      "burger --------------------------- 2\n",
      "noodles --------------------------- 2\n",
      "Total----------------------------------8600\n"
     ]
    }
   ],
   "source": [
    " menu = {\n",
    "    'pizza' : 6500,\n",
    "    'burger' : 3000, \n",
    "    'noodles': 1300}\n",
    "\n",
    "#display menu \n",
    "def display_menu ():\n",
    "    for item, price in menu.items():\n",
    "        print(f'{item}: {price} Naira')\n",
    "\n",
    "def take_order():\n",
    "    order = {}\n",
    "    while True:\n",
    "        item = input('enter your food order or \"done\" to finish: ')\n",
    "        if item in menu:\n",
    "            quantity = int(input('enter the quantity: '))    #to enter quantity\n",
    "            order[item] = quantity\n",
    "        elif item.lower() == 'done':\n",
    "            print('\\nyour order:') \n",
    "            \n",
    "                #to display order summary and calculate total----------------------------------------------------\n",
    "            total = 0\n",
    "            for item, quantity in order.items():\n",
    "                price = menu[item] * quantity\n",
    "                #(menu[item] * quantity == price x quantity)\n",
    "                print(f'{item} x {quantity}: {price}')\n",
    "                \n",
    "                total +=  price          \n",
    "                                \n",
    "                 #to print receipt-----------------------------------------------------------\n",
    "            print('\\nReceipt: ')\n",
    "            for item, quantity in order.items():\n",
    "                print(f'{item} --------------------------- {quantity}')\n",
    "            print(f'Total----------------------------------{total}')\n",
    "                \n",
    "            break\n",
    "        else:\n",
    "            print('sorry that item is not available')\n",
    "\n",
    "def main():\n",
    "    print('welcome to our resturant!'.title())\n",
    "    display_menu()\n",
    "    take_order()\n",
    "    \n",
    "\n",
    "main()"
   ]
  },
  {
   "cell_type": "raw",
   "id": "99d392e0-3c6c-43a3-ab6d-1f2cd6527349",
   "metadata": {},
   "source": [
    "price of each order = (price of item in menu) x (quantity of each order)\n",
    "        i.e menu[item]* quantity\n",
    "menu[item] calls the price list(value) within the menu dictionary\n",
    "e.g price of pizza order = 6500 x 1\n",
    "  therefore, price = 6500\n",
    "with additional orders, you have more (price) to calculate for total (i.e as long as the loop runs)\n",
    "                                                          \n",
    "initially total = 0,\n",
    "with total becoming (total + price), that is (total =  0 + 6500), total becomes 6500\n",
    "total now 6500 means (total + price) becomes is (total = 6500 + 6000)\n",
    "this means total is now 12500\n",
    "               and the loop keep running "
   ]
  },
  {
   "cell_type": "code",
   "execution_count": 107,
   "id": "a7d3c2ef-b95b-4ff9-aea1-88d48d8598b9",
   "metadata": {},
   "outputs": [
    {
     "name": "stdout",
     "output_type": "stream",
     "text": [
      "{'pasta': 300, 'rice': 500, 'meat': 1000}\n"
     ]
    },
    {
     "name": "stdin",
     "output_type": "stream",
     "text": [
      "whats your order or enter done to finish:  rice\n",
      "amt of food: 2\n",
      "whats your order or enter done to finish:  pasta\n",
      "amt of food: 1\n",
      "whats your order or enter done to finish:  meat\n",
      "amt of food: 5\n",
      "whats your order or enter done to finish:  done\n"
     ]
    },
    {
     "name": "stdout",
     "output_type": "stream",
     "text": [
      "{'rice': 2, 'pasta': 1, 'meat': 5}\n"
     ]
    }
   ],
   "source": [
    "menu= {\n",
    "    'pasta': 300, \n",
    "    'rice': 500, \n",
    "    'meat': 1000}\n",
    "\n",
    "orders = {}\n",
    "\n",
    "def display_menu():\n",
    "    print(menu)\n",
    "    while True:\n",
    "        iteme = input('whats your order or enter done to finish: ')\n",
    "\n",
    "        if iteme in menu:\n",
    "            quantitys = int(input('amt of food:'))\n",
    "            orders[iteme] = quantitys\n",
    "        elif iteme.lower() == 'done':\n",
    "            print(orders)\n",
    "            break\n",
    "\n",
    "        else: \n",
    "            print('not avalable')\n",
    "        \n",
    "display_menu()"
   ]
  },
  {
   "cell_type": "code",
   "execution_count": 132,
   "id": "fe765774-a163-47f4-838b-eb3529fc0947",
   "metadata": {},
   "outputs": [
    {
     "name": "stdout",
     "output_type": "stream",
     "text": [
      "rice x 2: 1000\n",
      "pasta x 1: 300\n",
      "meat x 5: 5000\n",
      "total: 6300\n"
     ]
    }
   ],
   "source": [
    "total =0\n",
    "for iteme, quantitys in orders.items():\n",
    "    #price x quantity\n",
    "    price_of_each_item = menu[iteme] * quantitys\n",
    "    print(f'{iteme} x {quantitys}: {price_of_each_item}')\n",
    "    total = total + price_of_each_item\n",
    "    #price + price + price\n",
    "    \n",
    "\n",
    "print(f'total: {total}')"
   ]
  },
  {
   "cell_type": "code",
   "execution_count": 138,
   "id": "17baeefd-2ecf-4ee9-81ea-525267fc2102",
   "metadata": {},
   "outputs": [],
   "source": [
    "### food app practicing functions"
   ]
  },
  {
   "cell_type": "code",
   "execution_count": 63,
   "id": "f4701a7a-19fa-46f5-9f8c-8a3066707726",
   "metadata": {},
   "outputs": [
    {
     "name": "stdout",
     "output_type": "stream",
     "text": [
      "Welcome To Our Restaurant!\n",
      "What Would You Like To Order?\n",
      "pasta: 300\n",
      "rice: 500\n",
      "meat: 1000\n"
     ]
    },
    {
     "name": "stdin",
     "output_type": "stream",
     "text": [
      "enter item or done to exit: 3\n"
     ]
    },
    {
     "name": "stdout",
     "output_type": "stream",
     "text": [
      "sorry that item is not available\n"
     ]
    },
    {
     "name": "stdin",
     "output_type": "stream",
     "text": [
      "enter item or done to exit: rice\n",
      "enter quantity: 2\n",
      "enter item or done to exit: pasta\n",
      "enter quantity: 1\n",
      "enter item or done to exit: meat\n",
      "enter quantity: 3\n",
      "enter item or done to exit: done\n"
     ]
    },
    {
     "name": "stdout",
     "output_type": "stream",
     "text": [
      "\n",
      "your order:\n",
      "rice x 2: 1000\n",
      "pasta x 1: 300\n",
      "meat x 3: 3000\n",
      "rice --------------------------- 2\n",
      "pasta --------------------------- 1\n",
      "meat --------------------------- 3\n",
      "Total-----------------------------4300\n"
     ]
    }
   ],
   "source": [
    "menu= {\n",
    "    'pasta': 300, \n",
    "    'rice': 500, \n",
    "    'meat': 1000}\n",
    "\n",
    "def display_menu():\n",
    "    print('welcome to our restaurant!'.title())\n",
    "    print('what would you like to order?'.title())\n",
    "    for item, price in menu.items():\n",
    "        print(f'{item}: {price}')\n",
    "\n",
    "def take_order():\n",
    "    order = {}\n",
    "    while True:\n",
    "        item = input('enter item or done to exit:')\n",
    "        if item in menu:\n",
    "            quantity = int(input('enter quantity:'))\n",
    "            order[item] = quantity\n",
    "        elif item.lower() == 'done':\n",
    "            print('\\nyour order:')\n",
    "            break \n",
    "        else: \n",
    "            print('sorry that item is not available')\n",
    "\n",
    "    return order\n",
    "\n",
    "def display_order_summary(order):\n",
    "    for item, quantity in order.items():\n",
    "        price = menu[item] * quantity\n",
    "        print(f'{item} x {quantity}: {price}')\n",
    "\n",
    "       \n",
    "def calculate_total(order):\n",
    "    total = 0\n",
    "    for item, quantity in order.items():\n",
    "        price = menu[item] * quantity\n",
    "        total += price\n",
    "\n",
    "    return total\n",
    "\n",
    "def print_receipt(order, total):\n",
    "    for item, quantity in order.items():\n",
    "        print(f'{item} --------------------------- {quantity}')\n",
    "    print(f'Total-----------------------------{total}')\n",
    "\n",
    "def food_app():\n",
    "    display_menu()\n",
    "    take_order()\n",
    "    display_order_summary({'rice': 2, 'pasta': 1, 'meat': 3})\n",
    "    calculate_total({'rice': 2, 'pasta': 1, 'meat': 3})\n",
    "    print_receipt({'rice': 2, 'pasta': 1, 'meat': 3}, 4300)\n",
    "\n",
    "food_app()"
   ]
  },
  {
   "cell_type": "markdown",
   "id": "cc3d7be2-50f4-49d7-b388-859bd46faa08",
   "metadata": {},
   "source": [
    "# BMI CALCULATOR"
   ]
  },
  {
   "cell_type": "code",
   "execution_count": 34,
   "id": "21bd7079-4dad-43e1-93cd-50e893a55106",
   "metadata": {},
   "outputs": [
    {
     "name": "stdin",
     "output_type": "stream",
     "text": [
      "Name:  ola\n",
      "enter your weight in pounds:  132\n",
      "enter your height in inches:  65\n"
     ]
    },
    {
     "name": "stdout",
     "output_type": "stream",
     "text": [
      "your BMI: 22.0\n"
     ]
    }
   ],
   "source": [
    "try: \n",
    "    name = input('Name: ')\n",
    "    weight = int(input('enter your weight in pounds: '))\n",
    "    height = int(input('enter your height in inches: '))\n",
    "\n",
    "    BMI = (weight * 703) / (height * height)\n",
    "    print(f'your BMI: {BMI:.1f}')\n",
    "\n",
    "except ZeroDivisionError: \n",
    "    print ('not divisible by zero')\n",
    "\n",
    "except ValueError:\n",
    "    print ('invalid input')"
   ]
  },
  {
   "cell_type": "code",
   "execution_count": 36,
   "id": "b19ceee6-79cb-4c78-b027-b0147662d585",
   "metadata": {},
   "outputs": [],
   "source": [
    "def calculate_BMI (weight, height):\n",
    "        return (weight * 703) / (height * height)\n",
    "\n"
   ]
  },
  {
   "cell_type": "markdown",
   "id": "4a587bb9-2750-4942-802c-57c42a25bc95",
   "metadata": {},
   "source": [
    "# file sorter"
   ]
  },
  {
   "cell_type": "code",
   "execution_count": 347,
   "id": "a3bc3a7d-495e-435c-9286-0b809151f20b",
   "metadata": {},
   "outputs": [],
   "source": [
    "import os, shutil "
   ]
  },
  {
   "cell_type": "code",
   "execution_count": 349,
   "id": "ac38e187-a89b-4c0c-b4ff-10a40da68f22",
   "metadata": {},
   "outputs": [],
   "source": [
    "path = 'Downloads/'"
   ]
  },
  {
   "cell_type": "code",
   "execution_count": 351,
   "id": "558b75a0-7527-4901-936d-0b497b6e6856",
   "metadata": {},
   "outputs": [
    {
     "data": {
      "text/plain": [
       "['.ipynb_checkpoints', 'ipynb files', 'jpg files', 'pdf files', 'webp files']"
      ]
     },
     "execution_count": 351,
     "metadata": {},
     "output_type": "execute_result"
    }
   ],
   "source": [
    "os.listdir(path)"
   ]
  },
  {
   "cell_type": "code",
   "execution_count": 353,
   "id": "63a1cfdc-71a6-44e0-8c79-77e0fb20e286",
   "metadata": {},
   "outputs": [],
   "source": [
    "#to create folders for each file type\n",
    "\n",
    "folder_names = ['jpg files', 'ipynb files', 'pdf files', 'webp files', 'text file']\n",
    "for loop in range(0,4):\n",
    "   if not os.path.exists(path + folder_names[loop]):\n",
    "       print(path + folder_names[loop])\n",
    "       os.makedirs((path + folder_names[loop]))"
   ]
  },
  {
   "cell_type": "code",
   "execution_count": 355,
   "id": "ff70fd4f-6d45-422e-8717-6938363c024b",
   "metadata": {},
   "outputs": [
    {
     "name": "stdout",
     "output_type": "stream",
     "text": [
      "this file was not moved\n",
      "this file was not moved\n",
      "this file was not moved\n",
      "this file was not moved\n",
      "this file was not moved\n"
     ]
    }
   ],
   "source": [
    "#to move the individual files to the folder\n",
    "\n",
    "file_name = os.listdir(path)\n",
    "for file in file_name:\n",
    "    if '.pdf' in file and not os.path.exists(path + 'pdf files/' + file):\n",
    "        shutil.move(path + file, path + 'pdf files/' + file)\n",
    "    elif '.ipynb' in file and not os.path.exists(path + 'ipynb files/' + file):\n",
    "        shutil.move(path + file, path + 'ipynb files/' + file)\n",
    "    elif '.jpg' in file and not os.path.exists(path + 'jpg files/' + file):\n",
    "        shutil.move(path + file, path + 'jpg files/' + file)\n",
    "    elif '.webp' in file and not os.path.exists(path + 'webp files/' + file):\n",
    "        shutil.move(path + file, path + 'webp files/' + file)\n",
    "    else:\n",
    "        print('this file was not moved')"
   ]
  },
  {
   "cell_type": "markdown",
   "id": "badd7196-c72e-4987-87e1-10cfeae25035",
   "metadata": {},
   "source": [
    "# OOP"
   ]
  },
  {
   "cell_type": "code",
   "execution_count": 109,
   "id": "55c1aca4-098c-4fa4-8c45-002b3e4d2317",
   "metadata": {},
   "outputs": [
    {
     "name": "stdin",
     "output_type": "stream",
     "text": [
      "how much do you want to deposit?:  2000\n"
     ]
    },
    {
     "name": "stdout",
     "output_type": "stream",
     "text": [
      " Account balance: 3000.0 \n"
     ]
    },
    {
     "name": "stdin",
     "output_type": "stream",
     "text": [
      "how much do you want to withdraw?:  5000\n"
     ]
    },
    {
     "name": "stdout",
     "output_type": "stream",
     "text": [
      "insufficient funds!\n",
      "your account details:         \n",
      " Account Number: 41434567         \n",
      " Account Name:Llama Alpaca         \n",
      " Account Balance: 3000.0\n"
     ]
    }
   ],
   "source": [
    "class BankAccount:\n",
    "    def __init__(self, Acct_no, Acct_name, Acct_bal):\n",
    "        self.number = Acct_no\n",
    "        self.name = Acct_name\n",
    "        self.balance = Acct_bal\n",
    "                        #methods...................\n",
    "    def deposit (self):\n",
    "        deposit_amt = float(input('how much do you want to deposit?: '))\n",
    "        self.balance += deposit_amt\n",
    "        print(f' Account balance: {self.balance} ')\n",
    "\n",
    "    def withdraw(self):\n",
    "        withdraw_amt = float(input('how much do you want to withdraw?: '))\n",
    "        if withdraw_amt > self.balance:\n",
    "            print('insufficient funds!')\n",
    "        else:\n",
    "            self.balance -= withdraw_amt\n",
    "            print(f' Account balance: {self.balance} ')\n",
    "\n",
    "    def Acct_details(self):\n",
    "        print(f'your account details: \\\n",
    "        \\n Account Number: {self.number} \\\n",
    "        \\n Account Name:{self.name} \\\n",
    "        \\n Account Balance: {self.balance}')\n",
    "        \n",
    "                #object.................\n",
    "Account = BankAccount(41434567, 'Llama Alpaca', 1000.0)\n",
    "Account.deposit()\n",
    "Account.withdraw()\n",
    "Account.Acct_details()"
   ]
  },
  {
   "cell_type": "code",
   "execution_count": 111,
   "id": "d3426b56-f786-4ceb-99f9-3961c7a0da07",
   "metadata": {},
   "outputs": [
    {
     "name": "stdout",
     "output_type": "stream",
     "text": [
      "Broken successfully borrowed\n",
      "Redeeming love added successfully\n",
      "\n",
      "Redeeming love by F.Rivers, 1998. \n",
      " Borrowed status: False\n"
     ]
    }
   ],
   "source": [
    "class Book:\n",
    "    def __init__(self, title, author, publication_year):\n",
    "        self.title = title\n",
    "        self.author = author\n",
    "        self.pub_year =  publication_year \n",
    "        self.borrowed = False #not borrowed by default\n",
    "        \n",
    "    def borrow_book(self):\n",
    "         if not self.borrowed:    #if it has been borrowed ...\n",
    "             self.borrowed = True                #then set it to true cause it is now currently borrowed \n",
    "             print(f'{self.title} successfully borrowed')\n",
    "         else: \n",
    "             print(f'{self.title} already borrowed')     # it has been borrowed before now\n",
    "\n",
    "    def return_book(self):\n",
    "        if self.borrowed:        #if it has been borrowed before\n",
    "            self.borrowed = False         # has now been returned\n",
    "            print(f'{self.title}: successfully returned.')\n",
    "        else: \n",
    "            print(f'{self.title} not borrowed')       #it was currently not borrowed\n",
    "            \n",
    "\n",
    "class Library:\n",
    "    def __init__(self):\n",
    "        self.books = [] \n",
    "\n",
    "    def add_book(self, book): # Book and Lib instance\n",
    "        self.books.append(book)\n",
    "        print(f'{book.title} added successfully')\n",
    "\n",
    "    def display_book(self):\n",
    "        for book in self.books:\n",
    "            print(f'\\n{book.title} by {book.author}, {book.pub_year}. \\n Borrowed status: {book.borrowed}')\n",
    "            \n",
    "              \n",
    "book1 = Book( 'Broken', 'F.Bala', 2018)    \n",
    "book2 =Book('Redeeming love', 'F.Rivers', 1998) \n",
    "Book_lib = Library()\n",
    "\n",
    "book1.borrow_book()\n",
    "Book_lib.add_book(book2)\n",
    "Book_lib.display_book()"
   ]
  }
 ],
 "metadata": {
  "kernelspec": {
   "display_name": "Python 3 (ipykernel)",
   "language": "python",
   "name": "python3"
  },
  "language_info": {
   "codemirror_mode": {
    "name": "ipython",
    "version": 3
   },
   "file_extension": ".py",
   "mimetype": "text/x-python",
   "name": "python",
   "nbconvert_exporter": "python",
   "pygments_lexer": "ipython3",
   "version": "3.12.4"
  }
 },
 "nbformat": 4,
 "nbformat_minor": 5
}
